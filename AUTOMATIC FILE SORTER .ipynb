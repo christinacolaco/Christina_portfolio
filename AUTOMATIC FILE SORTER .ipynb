{
 "cells": [
  {
   "cell_type": "markdown",
   "id": "d46c0da9-5400-4348-8e65-4bc0e497a1a8",
   "metadata": {},
   "source": [
    "## Automatic File Sorter"
   ]
  },
  {
   "cell_type": "code",
   "execution_count": 2,
   "id": "98a0b548-1ad1-4133-a9f1-67eccd3420c6",
   "metadata": {},
   "outputs": [],
   "source": [
    "import os, shutil"
   ]
  },
  {
   "cell_type": "code",
   "execution_count": 63,
   "id": "0a513ec2-3033-4e8f-9ea0-0e00ff7f6e8e",
   "metadata": {},
   "outputs": [],
   "source": [
    "path=r'C:\\Users\\CHRISTINA\\OneDrive\\Desktop\\DA\\PYTHON\\Automatic Sorter\\\\'"
   ]
  },
  {
   "cell_type": "code",
   "execution_count": 65,
   "id": "dae145d8-df72-40d9-b109-6dd531fa19d0",
   "metadata": {},
   "outputs": [
    {
     "data": {
      "text/plain": [
       "['CSV files',\n",
       " 'CSVFile.csv',\n",
       " 'FakeFile.csv',\n",
       " 'FakeFile.txt',\n",
       " 'Image files',\n",
       " 'Max.png',\n",
       " 'NewFile.tsv',\n",
       " 'NewFile.txt',\n",
       " 'Rosie.png',\n",
       " 'Text files']"
      ]
     },
     "execution_count": 65,
     "metadata": {},
     "output_type": "execute_result"
    }
   ],
   "source": [
    "# listing all the files in the given path\n",
    "os.listdir(path)"
   ]
  },
  {
   "cell_type": "code",
   "execution_count": 67,
   "id": "60786420-2123-459d-8aeb-95c5e5acedec",
   "metadata": {},
   "outputs": [],
   "source": [
    "# create the folders\n",
    "#os.makedirs(path+new_folder_name)\n",
    "folder_names=['CSV files','Text files','Image files']"
   ]
  },
  {
   "cell_type": "code",
   "execution_count": 69,
   "id": "d90a0609-901b-43cf-8b90-84058bda660b",
   "metadata": {},
   "outputs": [],
   "source": [
    "# checks if the file path exists if not we're going to create it\n",
    "\n",
    "folder_names=['CSV files','Text files','Image files']\n",
    "\n",
    "#C:\\Users\\CHRISTINA\\OneDrive\\Desktop\\DA\\PYTHON\\Automatic Sorter\\Image files'\n",
    "for folder in folder_names:\n",
    "    if not os.path.exists(path+folder):\n",
    "        \n",
    "        os.makedirs(path+folder)\n",
    "    "
   ]
  },
  {
   "cell_type": "code",
   "execution_count": 71,
   "id": "5a85a7bb-1aa3-4fb5-9b71-769eb55d49bf",
   "metadata": {},
   "outputs": [
    {
     "data": {
      "text/plain": [
       "['CSV files',\n",
       " 'CSVFile.csv',\n",
       " 'FakeFile.csv',\n",
       " 'FakeFile.txt',\n",
       " 'Image files',\n",
       " 'Max.png',\n",
       " 'NewFile.tsv',\n",
       " 'NewFile.txt',\n",
       " 'Rosie.png',\n",
       " 'Text files']"
      ]
     },
     "execution_count": 71,
     "metadata": {},
     "output_type": "execute_result"
    }
   ],
   "source": [
    "os.listdir(path)"
   ]
  },
  {
   "cell_type": "code",
   "execution_count": 73,
   "id": "73384ad4-3965-4153-95cf-ffb31aeab239",
   "metadata": {},
   "outputs": [],
   "source": [
    "file_names=os.listdir(path)\n",
    "path=r'C:\\Users\\CHRISTINA\\OneDrive\\Desktop\\DA\\PYTHON\\Automatic Sorter\\\\'"
   ]
  },
  {
   "cell_type": "code",
   "execution_count": 75,
   "id": "68ddae61-417f-455e-921d-4c3075f70252",
   "metadata": {},
   "outputs": [],
   "source": [
    "# if file does not exists in the path we move it not copy\n",
    "# we check all the files .txt,.csv,.png and check if it's in the path if it isn't already n the path\n",
    "#then we move it\n",
    "for file in file_names:\n",
    "    if \".csv\" in file and not os.path.exists(path+ \"CSV files\\\\\" + file):\n",
    "        shutil.move(path+file,path+ \"CSV files\\\\\" + file)\n",
    "    elif \".png\" in file and not os.path.exists(path+ \"Image files\\\\\" + file):\n",
    "        shutil.move(path+file,path+ \"Image files\\\\\" + file)\n",
    "    elif \".txt\" in file and not os.path.exists(path+ \"Text files\\\\\" + file):\n",
    "        shutil.move(path+file,path+ \"Text files\\\\\" + file)\n",
    "    \n",
    "    "
   ]
  },
  {
   "cell_type": "code",
   "execution_count": 77,
   "id": "f4cc95b4-ea5d-4f83-a666-734bae6d8263",
   "metadata": {},
   "outputs": [],
   "source": [
    "## putting all of them in one script\n",
    "path=r'C:\\Users\\CHRISTINA\\OneDrive\\Desktop\\DA\\PYTHON\\Automatic Sorter\\\\'\n",
    "folder_names=['CSV files','Text files','Image files']\n",
    "\n",
    "#C:\\Users\\CHRISTINA\\OneDrive\\Desktop\\DA\\PYTHON\\Automatic Sorter\\Image files'\n",
    "for folder in folder_names:\n",
    "    if not os.path.exists(path+folder):\n",
    "        \n",
    "        os.makedirs(path+folder)\n",
    "\n",
    "file_names=os.listdir(path)\n",
    "for file in file_names:\n",
    "    if \".csv\" in file and not os.path.exists(path+ \"CSV files\\\\\" + file):\n",
    "        shutil.move(path+file,path+ \"CSV files\\\\\" + file)\n",
    "    elif \".png\" in file and not os.path.exists(path+ \"Image files\\\\\" + file):\n",
    "        shutil.move(path+file,path+ \"Image files\\\\\" + file)\n",
    "    elif \".txt\" in file and not os.path.exists(path+ \"Text files\\\\\" + file):\n",
    "        shutil.move(path+file,path+ \"Text files\\\\\" + file)\n",
    "    \n",
    "    "
   ]
  },
  {
   "cell_type": "code",
   "execution_count": null,
   "id": "b8192936-bde8-4ec1-be5d-a489af241031",
   "metadata": {},
   "outputs": [],
   "source": []
  }
 ],
 "metadata": {
  "kernelspec": {
   "display_name": "Python 3 (ipykernel)",
   "language": "python",
   "name": "python3"
  },
  "language_info": {
   "codemirror_mode": {
    "name": "ipython",
    "version": 3
   },
   "file_extension": ".py",
   "mimetype": "text/x-python",
   "name": "python",
   "nbconvert_exporter": "python",
   "pygments_lexer": "ipython3",
   "version": "3.12.4"
  }
 },
 "nbformat": 4,
 "nbformat_minor": 5
}
