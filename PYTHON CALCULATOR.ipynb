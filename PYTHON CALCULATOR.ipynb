{
 "cells": [
  {
   "cell_type": "code",
   "execution_count": 1,
   "id": "c72cb499-1e76-47db-a07f-29f1d9d1942a",
   "metadata": {},
   "outputs": [],
   "source": [
    "def add(x,y):\n",
    "    return x + y\n",
    "def subtract(x,y):\n",
    "    return x - y   \n",
    "def multiply(x,y):\n",
    "    return x * y\n",
    "def divide(x,y):\n",
    "    return x / y"
   ]
  },
  {
   "cell_type": "code",
   "execution_count": 5,
   "id": "8ba466a1-33cd-4e4c-8fa7-63e519eef049",
   "metadata": {},
   "outputs": [
    {
     "name": "stdin",
     "output_type": "stream",
     "text": [
      "enter choice: A,S,M,D):  A\n",
      "enter first number: 2\n",
      "enter second number: 3\n"
     ]
    }
   ],
   "source": [
    "choice = input('enter choice: A,S,M,D): ')\n",
    "num1=float(input('enter first number:'))\n",
    "num2=float(input('enter second number:'))"
   ]
  },
  {
   "cell_type": "code",
   "execution_count": 34,
   "id": "e496c9c1-2904-4111-9774-7772013f72ba",
   "metadata": {},
   "outputs": [
    {
     "name": "stdout",
     "output_type": "stream",
     "text": [
      "enter 'A' for Addition\n",
      "enter 'S' for Subtraction\n",
      "enter 'M' for Multiplication\n",
      "enter 'D' for Division\n"
     ]
    },
    {
     "name": "stdin",
     "output_type": "stream",
     "text": [
      "enter choice: A,S,M,D):  a\n",
      "enter first number: 10\n",
      "enter second number: 20\n"
     ]
    },
    {
     "name": "stdout",
     "output_type": "stream",
     "text": [
      " Result: 10.0 + 20.0 = 30.0\n"
     ]
    }
   ],
   "source": [
    "print(\"enter 'A' for Addition\")\n",
    "print(\"enter 'S' for Subtraction\")\n",
    "print(\"enter 'M' for Multiplication\")\n",
    "print(\"enter 'D' for Division\")\n",
    "choice = input('enter choice: A,S,M,D): ')\n",
    "\n",
    "\n",
    "if choice.upper() in ('A','ADD','ADDITION','S','SUBTRACT','SUBTRACTION','M','MULTIPLY','MULTIPLICATION','D','DIVIDE','DIVISION'):\n",
    "    num1=float(input('enter first number:'))\n",
    "    num2=float(input('enter second number:'))\n",
    "    if choice.upper() in('A','ADD','ADDITION'):\n",
    "       print( ' Result:',num1, '+', num2, '=', add(num1,num2))\n",
    "    elif choice.upper() in('S','SUBTRACT','SUBTRACTION'):\n",
    "          print(num1, '-', num2, '=', subtract(num1,num2))\n",
    "    elif choice.upper() in('M','MULTIPLY','MULTIPLICATION'):\n",
    "          print(num1, '*', num2, '=', multiply(num1,num2))\n",
    "\n",
    "    \n",
    "    elif choice.upper() in('D','DIVIDE','DIVISION'):\n",
    "           print(num1, '/', num2, '=', divide(num1,num2))\n",
    "\n",
    "else:\n",
    "    print(\"please input a correct choice:\")\n",
    "\n"
   ]
  },
  {
   "cell_type": "code",
   "execution_count": 52,
   "id": "0d4e9068-73b5-40d1-911e-aef048e91630",
   "metadata": {},
   "outputs": [
    {
     "name": "stdout",
     "output_type": "stream",
     "text": [
      "enter 'A' for Addition\n",
      "enter 'S' for Subtraction\n",
      "enter 'M' for Multiplication\n",
      "enter 'D' for Division\n"
     ]
    },
    {
     "name": "stdin",
     "output_type": "stream",
     "text": [
      "enter choice (A,S,M,D):  a\n",
      "enter first number: 10\n",
      "enter second number: 20\n"
     ]
    },
    {
     "name": "stdout",
     "output_type": "stream",
     "text": [
      " Result: 10.0 + 20.0 = 30.0\n"
     ]
    },
    {
     "name": "stdin",
     "output_type": "stream",
     "text": [
      "want to do another calculation?(yes/no): no\n"
     ]
    }
   ],
   "source": [
    "print(\"enter 'A' for Addition\")\n",
    "print(\"enter 'S' for Subtraction\")\n",
    "print(\"enter 'M' for Multiplication\")\n",
    "print(\"enter 'D' for Division\")\n",
    "\n",
    "\n",
    "while True:\n",
    "        choice = input('enter choice (A,S,M,D): ')\n",
    "        if choice.upper() in ('A','ADD','ADDITION','S','SUBTRACT','SUBTRACTION','M','MULTIPLY','MULTIPLICATION','D','DIVIDE','DIVISION'):\n",
    "            num1=float(input('enter first number:'))\n",
    "            num2=float(input('enter second number:'))\n",
    "            if choice.upper() in('A','ADD','ADDITION'):\n",
    "               print( ' Result:',num1, '+', num2, '=', add(num1,num2))\n",
    "            elif choice.upper() in('S','SUBTRACT','SUBTRACTION'):\n",
    "                  print(num1, '-', num2, '=', subtract(num1,num2))\n",
    "            elif choice.upper() in('M','MULTIPLY','MULTIPLICATION'):\n",
    "                  print(num1, '*', num2, '=', multiply(num1,num2))\n",
    "        \n",
    "            \n",
    "            elif choice.upper() in('D','DIVIDE','DIVISION'):\n",
    "                   print(num1, '/', num2, '=', divide(num1,num2))\n",
    "        \n",
    "        else:\n",
    "            print(\"please input a correct choice:\")\n",
    "    \n",
    "        next_calculation=input(\"want to do another calculation?(yes/no):\")\n",
    "        if next_calculation.lower() in ('no','n','nope'):\n",
    "            break\n",
    "        \n"
   ]
  },
  {
   "cell_type": "code",
   "execution_count": null,
   "id": "16d23e0c-a3af-4e4c-898d-6f545336663f",
   "metadata": {},
   "outputs": [],
   "source": []
  }
 ],
 "metadata": {
  "kernelspec": {
   "display_name": "Python 3 (ipykernel)",
   "language": "python",
   "name": "python3"
  },
  "language_info": {
   "codemirror_mode": {
    "name": "ipython",
    "version": 3
   },
   "file_extension": ".py",
   "mimetype": "text/x-python",
   "name": "python",
   "nbconvert_exporter": "python",
   "pygments_lexer": "ipython3",
   "version": "3.12.4"
  }
 },
 "nbformat": 4,
 "nbformat_minor": 5
}
