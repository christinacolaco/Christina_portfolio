{
 "cells": [
  {
   "cell_type": "markdown",
   "id": "37d0b74f-e8e3-4daa-ba88-f7db37fd5ebe",
   "metadata": {},
   "source": [
    "## Unit of measurement converter project "
   ]
  },
  {
   "cell_type": "code",
   "execution_count": 6,
   "id": "bd1b3f5c-4f34-40a0-b959-c5ba2ab5c740",
   "metadata": {},
   "outputs": [
    {
     "name": "stdin",
     "output_type": "stream",
     "text": [
      "enter starting unit of measurement(inches,feed,yards): inches\n",
      "enter unit of measurementto convert to(inches,feed,yards): feet\n",
      "enter starting measurement in inches: 24\n",
      "enter starting measurement in feet: 3\n",
      "enter starting measurement in yards: 1\n"
     ]
    }
   ],
   "source": [
    "convert_from=input('enter starting unit of measurement(inches,feed,yards):')\n",
    "convert_to=input('enter unit of measurementto convert to(inches,feed,yards):')\n",
    "number_of_inches=input('enter starting measurement in inches:')\n",
    "number_of_feet=input('enter starting measurement in feet:')\n",
    "number_of_yards=input('enter starting measurement in yards:')"
   ]
  },
  {
   "cell_type": "code",
   "execution_count": 71,
   "id": "5545078b-89c4-47f6-8a2b-6fe91ce3d459",
   "metadata": {},
   "outputs": [
    {
     "ename": "IndentationError",
     "evalue": "unindent does not match any outer indentation level (<string>, line 21)",
     "output_type": "error",
     "traceback": [
      "\u001b[1;36m  File \u001b[1;32m<string>:21\u001b[1;36m\u001b[0m\n\u001b[1;33m    if convert_to.lower()in['inches','in','inch']:\u001b[0m\n\u001b[1;37m                                                  ^\u001b[0m\n\u001b[1;31mIndentationError\u001b[0m\u001b[1;31m:\u001b[0m unindent does not match any outer indentation level\n"
     ]
    }
   ],
   "source": [
    "convert_from=input('enter starting unit of measurement(inches,feed,yards):')\n",
    "convert_to=input('enter unit of measurementto convert to(inches,feed,yards):')\n",
    "if convert_from.lower()in['inches','in','inch']:\n",
    "    number_of_inches=int(input('enter starting measurement in inches:'))\n",
    "    if convert_to.lower()in['feet','foot','ft']:\n",
    "        print(number_of_inches/12)\n",
    "    elif convert_to.lower()in['yards','yard','yds','yd']:\n",
    "        print(number_of_inches/36)\n",
    "    else:\n",
    "        print('input was incorrect')\n",
    "elif convert_from.lower()in['feet','foot','ft']:\n",
    "    number_of_feet=int(input('enter starting measurement in feet:'))\n",
    "    if convert_to.lower() in ['inches', 'in', 'inch']:\n",
    "        print(number_of_feet * 12)\n",
    "    elif  convert_to.lower()in['yards','yard','yds','yd']:\n",
    "        print(number_of_feet/3)\n",
    "    else:\n",
    "        print('input was incorrect')\n",
    "elif convert_from.lower()in['yards','yard','yds','yd']:\n",
    "    number_of_yards=int(input('enter starting measurement in yards:'))\n",
    "  if convert_to.lower()in['inches','in','inch']:\n",
    "        print(number_of_yards * 36)\n",
    "    elif convert_to.lower()in['feet','foot','ft']:\n",
    "        print(number_of_yards*3)\n",
    "    else:\n",
    "        print('input was incorrect')\n",
    "\n",
    "else:\n",
    "    print('your input was incorrect')\n",
    "    "
   ]
  },
  {
   "cell_type": "code",
   "execution_count": 112,
   "id": "eb0c0625-117f-4141-a62c-f583c9a32d12",
   "metadata": {},
   "outputs": [
    {
     "name": "stdin",
     "output_type": "stream",
     "text": [
      "Enter starting unit of measurement (inches, feet, yards):  feet\n",
      "Enter unit of measurement to convert to (inches, feet, yards):  miles\n",
      "Enter starting measurement in feet:  34\n"
     ]
    },
    {
     "name": "stdout",
     "output_type": "stream",
     "text": [
      "Please enter either inches,feet, or yards.\n"
     ]
    }
   ],
   "source": [
    "convert_from = input('Enter starting unit of measurement (inches, feet, yards): ')\n",
    "convert_to = input('Enter unit of measurement to convert to (inches, feet, yards): ')\n",
    "\n",
    "if convert_from.lower() in ['inches', 'in', 'inch']:\n",
    "    number_of_inches = int(input('Enter starting measurement in inches: '))\n",
    "    if convert_to.lower() in ['feet', 'foot', 'ft']:\n",
    "        print(\"Result: \" + str(number_of_inches) + \" inches= \" + str(round(number_of_inches / 12,2)) + \" feet \")\n",
    "    elif convert_to.lower() in ['yards', 'yard', 'yds', 'yd']:\n",
    "          print(\"Result: \" + str(number_of_inches) + \" inches= \" + str(round(number_of_inches / 36,2)) + \" yards \")\n",
    "       \n",
    "    else:\n",
    "        print('Please enter either inches,feet, or yards.')\n",
    "\n",
    "elif convert_from.lower() in ['feet', 'foot', 'ft']:\n",
    "    number_of_feet = int(input('Enter starting measurement in feet: '))\n",
    "    if convert_to.lower() in ['inches', 'in', 'inch']:\n",
    "          print(\"Result: \" + str(number_of_feet) + \" feet= \" + str(round(number_of_feet * 12)) + \" inches \")\n",
    "     \n",
    "    elif convert_to.lower() in ['yards', 'yard', 'yds', 'yd']:\n",
    "        print(\"Result: \" + str(number_of_feet) + \" feet= \" + str(round(number_of_feet / 3,2)) + \" yards \")\n",
    "     \n",
    "    else:\n",
    "        print('Please enter either inches,feet, or yards.')\n",
    "\n",
    "elif convert_from.lower() in ['yards', 'yard', 'yds', 'yd']:\n",
    "    number_of_yards = int(input('Enter starting measurement in yards: '))\n",
    "    if convert_to.lower() in ['inches', 'in', 'inch']:\n",
    "        print(\"Result: \" + str(number_of_yards) + \" yards= \" + str(round(number_of_yards * 36)) + \" inches \")\n",
    "    elif convert_to.lower() in ['feet', 'foot', 'ft']:\n",
    "       print(\"Result: \" + str(number_of_yards) + \" yards= \" + str(round(number_of_yards * 3)) + \" feet \") \n",
    "        \n",
    "      \n",
    "    else:\n",
    "        print('Please enter either inches,feet, or yards.')\n",
    "\n",
    "else:\n",
    "    print('Please enter either inches,feet, or yards.')\n"
   ]
  },
  {
   "cell_type": "code",
   "execution_count": null,
   "id": "94bf0548-1cba-4196-8de7-a014f430abd7",
   "metadata": {},
   "outputs": [],
   "source": []
  }
 ],
 "metadata": {
  "kernelspec": {
   "display_name": "Python 3 (ipykernel)",
   "language": "python",
   "name": "python3"
  },
  "language_info": {
   "codemirror_mode": {
    "name": "ipython",
    "version": 3
   },
   "file_extension": ".py",
   "mimetype": "text/x-python",
   "name": "python",
   "nbconvert_exporter": "python",
   "pygments_lexer": "ipython3",
   "version": "3.12.4"
  }
 },
 "nbformat": 4,
 "nbformat_minor": 5
}
